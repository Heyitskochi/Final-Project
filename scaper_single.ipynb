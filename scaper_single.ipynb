{
 "cells": [
  {
   "cell_type": "code",
   "execution_count": 1,
   "metadata": {},
   "outputs": [],
   "source": [
    "import requests\n",
    "import bs4\n",
    "from bs4 import BeautifulSoup as bs\n",
    "import pandas as pd\n",
    "from splinter import Browser\n",
    "import os\n",
    "from webdriver_manager.chrome import ChromeDriverManager\n",
    "import time"
   ]
  },
  {
   "cell_type": "code",
   "execution_count": null,
   "metadata": {},
   "outputs": [],
   "source": [
    "# executable_path = {'executable_path': ChromeDriverManager().install()}\n",
    "# browser = Browser('chrome', **executable_path, headless=False)\n",
    "# url = 'https://www.indeed.com/jobs?q=data%20analyst&l=California&start=0'\n",
    "# browser.visit(url)\n",
    "# time.sleep(5)  \n",
    "# html = browser.html\n",
    "# soup = bs(html, \"html.parser\")"
   ]
  },
  {
   "cell_type": "code",
   "execution_count": 2,
   "metadata": {},
   "outputs": [
    {
     "name": "stderr",
     "output_type": "stream",
     "text": [
      "\n",
      "\n",
      "====== WebDriver manager ======\n",
      "Current google-chrome version is 92.0.4515\n",
      "Get LATEST driver version for 92.0.4515\n",
      "Driver [C:\\Users\\SC\\.wdm\\drivers\\chromedriver\\win32\\92.0.4515.107\\chromedriver.exe] found in cache\n"
     ]
    }
   ],
   "source": [
    "executable_path = {'executable_path': ChromeDriverManager().install()}\n",
    "browser = Browser('chrome', **executable_path, headless=False)\n",
    "url = 'https://www.indeed.com/jobs?q=data%20analyst&l=California&start=0'\n",
    "browser.visit(url)\n",
    "time.sleep(5)  \n",
    "html = browser.html\n",
    "soup = bs(html, \"html.parser\")\n",
    "\n",
    "#for div in soup.find_all(name='div', attrs={'class':'job_seen_beacon'}):\n",
    "\n",
    "jobs = []\n",
    "companies = []\n",
    "locations = []\n",
    "summaries = []\n",
    "\n",
    "#grabbing job title\n",
    "for td in soup.find_all(name='td', attrs={'class':'resultContent'}):\n",
    "    for div in td.find_all(name='div', attrs={'class':'heading4 color-text-primary singleLineTitle tapItem-gutter'}):\n",
    "        for span in div.find_all(name='span'):\n",
    "            if span.text.strip() != 'new':\n",
    "                jobs.append(span.text.strip())  \n",
    "\n",
    "#grabbing company name\n",
    "for td2 in soup.find_all(name='td', attrs={'class':'resultContent'}):\n",
    "    for div2 in td2.find_all(name='div', attrs={'class':'heading6 company_location tapItem-gutter'}):\n",
    "        for span2 in div2.find_all(name='span', attrs={'class':'companyName'}):\n",
    "            companies.append(span2.text.strip())      \n",
    "\n",
    "#grabbing location\n",
    "for td3 in soup.find_all(name='td', attrs={'class':'resultContent'}):\n",
    "    for div3 in td3.find_all(name='div', attrs={'class':'heading6 company_location tapItem-gutter'}):\n",
    "        for div4 in div3.find_all(name='div'):\n",
    "            locations.append(div4.text.strip())   \n",
    "\n",
    "#grabbing summary text\n",
    "divs = soup.findAll('div', attrs={'class': 'job-snippet'})\n",
    "for div5 in divs:\n",
    "    summaries.append(div5.text.strip())\n",
    "               \n",
    "browser.quit()"
   ]
  },
  {
   "cell_type": "code",
   "execution_count": 3,
   "metadata": {},
   "outputs": [
    {
     "data": {
      "text/plain": [
       "['Business Systems Analyst',\n",
       " 'Data Analyst I',\n",
       " 'Healthcare Quality Data Informatics Analyst',\n",
       " 'Data Analyst needed ASAP!!',\n",
       " 'YMCA CSS Research & Data Analyst',\n",
       " 'TikTok LIVE Data Analyst',\n",
       " 'Data Analyst (Full Time) United States',\n",
       " 'Analyst, Data & Reporting',\n",
       " 'Junior Data Analyst',\n",
       " 'Data Analyst -Recent Graduate',\n",
       " 'Data Analyst',\n",
       " 'Programmer Analyst I/II',\n",
       " 'Research Data Analyst',\n",
       " 'Jr. Data Analyst',\n",
       " 'Gift Processing and Data Analytics Specialist, University Ad...']"
      ]
     },
     "execution_count": 3,
     "metadata": {},
     "output_type": "execute_result"
    }
   ],
   "source": [
    "jobs"
   ]
  },
  {
   "cell_type": "code",
   "execution_count": 4,
   "metadata": {},
   "outputs": [
    {
     "data": {
      "text/plain": [
       "['DiversityX',\n",
       " 'Computershare',\n",
       " 'Clinical Management Consultants',\n",
       " 'AppleOne',\n",
       " 'YMCA of San Diego County',\n",
       " 'TikTok',\n",
       " 'Cisco Systems',\n",
       " 'Disney Streaming Services',\n",
       " 'Dental Views',\n",
       " 'Goodman Manufacturing Company',\n",
       " 'OBMedia',\n",
       " 'Merced County, CA',\n",
       " 'Stanford University',\n",
       " 'Health Advocates',\n",
       " 'California State University San Marcos Corporation']"
      ]
     },
     "execution_count": 4,
     "metadata": {},
     "output_type": "execute_result"
    }
   ],
   "source": [
    "companies"
   ]
  },
  {
   "cell_type": "code",
   "execution_count": 5,
   "metadata": {},
   "outputs": [
    {
     "data": {
      "text/plain": [
       "['Los Angeles, CA',\n",
       " 'United States•Remote',\n",
       " 'Long Beach, CA',\n",
       " 'Folsom, CA 95630',\n",
       " 'San Diego, CA',\n",
       " 'Los Angeles, CA',\n",
       " 'San Jose, CA',\n",
       " 'Burbank, CA',\n",
       " 'Riverside, CA',\n",
       " 'Irvine, CA 92614 (Business District area)',\n",
       " 'Los Angeles, CA•Remote',\n",
       " 'Merced, CA 95340',\n",
       " 'Stanford, CA',\n",
       " 'Chatsworth, CA 91311',\n",
       " 'San Marcos, CA 92096']"
      ]
     },
     "execution_count": 5,
     "metadata": {},
     "output_type": "execute_result"
    }
   ],
   "source": [
    "locations"
   ]
  },
  {
   "cell_type": "code",
   "execution_count": 6,
   "metadata": {},
   "outputs": [
    {
     "data": {
      "text/plain": [
       "['Ability to elicit, gather and analyze data.\\nWe are currently seeking an experienced Business Systems Analyst that will be an integral part of our Credit…',\n",
       " '1 year of experience in data analysis or the application of data analytics, preferably within the mortgage servicing industry.\\nPaid time away from work.',\n",
       " 'Data abstraction will be utilized to pull confidential internal patient data and external reference data.\\nThe Cerner Clinical Quality Data Analyst will ensure…',\n",
       " \"?Bachelor's degree in mathematics, accounting or economics, a master's degree would be an added advantage.\",\n",
       " 'Develop and maintain data dictionaries and other data management documents (fidelity check lists, data plans and specifications, etc.) to support teams with…',\n",
       " 'Assist in creating data best practices and documentation to help streamline data operations.\\nAdvanced proficiency in data manipulation including SQL, python or…',\n",
       " 'Assess the effectiveness and accuracy of new data sources and data gathering techniques.\\nPartner and lead cross-functional teams to realize data relationships…',\n",
       " '1-3 years of equivalent experience as an analyst in a data and analytics domain, in a professional or academic setting.',\n",
       " 'Creates actionable insights and understanding, through the analysis of both quantitative and qualitative data, building recommendations that directly address…',\n",
       " 'Handle all data entry of purchase orders for emergency requirements and periodical stock replenishment.\\nProficiency in Microsoft Suite Applications (Word, Excel…',\n",
       " 'You will have contributed to ongoing company efforts to manage our massive, often noisy, and continuously changing, data streams.',\n",
       " 'Frequent use of data entry device including repetitive hand and arm motion.\\nAnalyze data, interpret directions, procedures and regulations, and develop…',\n",
       " 'Determine additional data collection and reporting requirements.\\nUse system reports and analyses to identify potentially problematic data, make corrections, and…',\n",
       " 'Job responsibilities include: preparing daily, weekly, monthly, and quarterly reports via Excel and SQL, interpreting and analyzing data from primary and…',\n",
       " 'The Specialist is also responsible for assisting the Database Administrator with data requests and reporting.\\nReporting to the Director of Advancement Services,…']"
      ]
     },
     "execution_count": 6,
     "metadata": {},
     "output_type": "execute_result"
    }
   ],
   "source": [
    "summaries"
   ]
  },
  {
   "cell_type": "code",
   "execution_count": 7,
   "metadata": {},
   "outputs": [
    {
     "data": {
      "text/html": [
       "<div>\n",
       "<style scoped>\n",
       "    .dataframe tbody tr th:only-of-type {\n",
       "        vertical-align: middle;\n",
       "    }\n",
       "\n",
       "    .dataframe tbody tr th {\n",
       "        vertical-align: top;\n",
       "    }\n",
       "\n",
       "    .dataframe thead th {\n",
       "        text-align: right;\n",
       "    }\n",
       "</style>\n",
       "<table border=\"1\" class=\"dataframe\">\n",
       "  <thead>\n",
       "    <tr style=\"text-align: right;\">\n",
       "      <th></th>\n",
       "      <th>job_title</th>\n",
       "      <th>company_name</th>\n",
       "      <th>location</th>\n",
       "      <th>summary</th>\n",
       "    </tr>\n",
       "  </thead>\n",
       "  <tbody>\n",
       "    <tr>\n",
       "      <th>0</th>\n",
       "      <td>Business Systems Analyst</td>\n",
       "      <td>DiversityX</td>\n",
       "      <td>Los Angeles, CA</td>\n",
       "      <td>Ability to elicit, gather and analyze data.\\nW...</td>\n",
       "    </tr>\n",
       "    <tr>\n",
       "      <th>1</th>\n",
       "      <td>Data Analyst I</td>\n",
       "      <td>Computershare</td>\n",
       "      <td>United States•Remote</td>\n",
       "      <td>1 year of experience in data analysis or the a...</td>\n",
       "    </tr>\n",
       "    <tr>\n",
       "      <th>2</th>\n",
       "      <td>Healthcare Quality Data Informatics Analyst</td>\n",
       "      <td>Clinical Management Consultants</td>\n",
       "      <td>Long Beach, CA</td>\n",
       "      <td>Data abstraction will be utilized to pull conf...</td>\n",
       "    </tr>\n",
       "    <tr>\n",
       "      <th>3</th>\n",
       "      <td>Data Analyst needed ASAP!!</td>\n",
       "      <td>AppleOne</td>\n",
       "      <td>Folsom, CA 95630</td>\n",
       "      <td>?Bachelor's degree in mathematics, accounting ...</td>\n",
       "    </tr>\n",
       "    <tr>\n",
       "      <th>4</th>\n",
       "      <td>YMCA CSS Research &amp; Data Analyst</td>\n",
       "      <td>YMCA of San Diego County</td>\n",
       "      <td>San Diego, CA</td>\n",
       "      <td>Develop and maintain data dictionaries and oth...</td>\n",
       "    </tr>\n",
       "    <tr>\n",
       "      <th>5</th>\n",
       "      <td>TikTok LIVE Data Analyst</td>\n",
       "      <td>TikTok</td>\n",
       "      <td>Los Angeles, CA</td>\n",
       "      <td>Assist in creating data best practices and doc...</td>\n",
       "    </tr>\n",
       "    <tr>\n",
       "      <th>6</th>\n",
       "      <td>Data Analyst (Full Time) United States</td>\n",
       "      <td>Cisco Systems</td>\n",
       "      <td>San Jose, CA</td>\n",
       "      <td>Assess the effectiveness and accuracy of new d...</td>\n",
       "    </tr>\n",
       "    <tr>\n",
       "      <th>7</th>\n",
       "      <td>Analyst, Data &amp; Reporting</td>\n",
       "      <td>Disney Streaming Services</td>\n",
       "      <td>Burbank, CA</td>\n",
       "      <td>1-3 years of equivalent experience as an analy...</td>\n",
       "    </tr>\n",
       "    <tr>\n",
       "      <th>8</th>\n",
       "      <td>Junior Data Analyst</td>\n",
       "      <td>Dental Views</td>\n",
       "      <td>Riverside, CA</td>\n",
       "      <td>Creates actionable insights and understanding,...</td>\n",
       "    </tr>\n",
       "    <tr>\n",
       "      <th>9</th>\n",
       "      <td>Data Analyst -Recent Graduate</td>\n",
       "      <td>Goodman Manufacturing Company</td>\n",
       "      <td>Irvine, CA 92614 (Business District area)</td>\n",
       "      <td>Handle all data entry of purchase orders for e...</td>\n",
       "    </tr>\n",
       "    <tr>\n",
       "      <th>10</th>\n",
       "      <td>Data Analyst</td>\n",
       "      <td>OBMedia</td>\n",
       "      <td>Los Angeles, CA•Remote</td>\n",
       "      <td>You will have contributed to ongoing company e...</td>\n",
       "    </tr>\n",
       "    <tr>\n",
       "      <th>11</th>\n",
       "      <td>Programmer Analyst I/II</td>\n",
       "      <td>Merced County, CA</td>\n",
       "      <td>Merced, CA 95340</td>\n",
       "      <td>Frequent use of data entry device including re...</td>\n",
       "    </tr>\n",
       "    <tr>\n",
       "      <th>12</th>\n",
       "      <td>Research Data Analyst</td>\n",
       "      <td>Stanford University</td>\n",
       "      <td>Stanford, CA</td>\n",
       "      <td>Determine additional data collection and repor...</td>\n",
       "    </tr>\n",
       "    <tr>\n",
       "      <th>13</th>\n",
       "      <td>Jr. Data Analyst</td>\n",
       "      <td>Health Advocates</td>\n",
       "      <td>Chatsworth, CA 91311</td>\n",
       "      <td>Job responsibilities include: preparing daily,...</td>\n",
       "    </tr>\n",
       "    <tr>\n",
       "      <th>14</th>\n",
       "      <td>Gift Processing and Data Analytics Specialist,...</td>\n",
       "      <td>California State University San Marcos Corpora...</td>\n",
       "      <td>San Marcos, CA 92096</td>\n",
       "      <td>The Specialist is also responsible for assisti...</td>\n",
       "    </tr>\n",
       "  </tbody>\n",
       "</table>\n",
       "</div>"
      ],
      "text/plain": [
       "                                            job_title  \\\n",
       "0                            Business Systems Analyst   \n",
       "1                                      Data Analyst I   \n",
       "2         Healthcare Quality Data Informatics Analyst   \n",
       "3                          Data Analyst needed ASAP!!   \n",
       "4                    YMCA CSS Research & Data Analyst   \n",
       "5                            TikTok LIVE Data Analyst   \n",
       "6              Data Analyst (Full Time) United States   \n",
       "7                           Analyst, Data & Reporting   \n",
       "8                                 Junior Data Analyst   \n",
       "9                       Data Analyst -Recent Graduate   \n",
       "10                                       Data Analyst   \n",
       "11                            Programmer Analyst I/II   \n",
       "12                              Research Data Analyst   \n",
       "13                                   Jr. Data Analyst   \n",
       "14  Gift Processing and Data Analytics Specialist,...   \n",
       "\n",
       "                                         company_name  \\\n",
       "0                                          DiversityX   \n",
       "1                                       Computershare   \n",
       "2                     Clinical Management Consultants   \n",
       "3                                            AppleOne   \n",
       "4                            YMCA of San Diego County   \n",
       "5                                              TikTok   \n",
       "6                                       Cisco Systems   \n",
       "7                           Disney Streaming Services   \n",
       "8                                        Dental Views   \n",
       "9                       Goodman Manufacturing Company   \n",
       "10                                            OBMedia   \n",
       "11                                  Merced County, CA   \n",
       "12                                Stanford University   \n",
       "13                                   Health Advocates   \n",
       "14  California State University San Marcos Corpora...   \n",
       "\n",
       "                                     location  \\\n",
       "0                             Los Angeles, CA   \n",
       "1                        United States•Remote   \n",
       "2                              Long Beach, CA   \n",
       "3                            Folsom, CA 95630   \n",
       "4                               San Diego, CA   \n",
       "5                             Los Angeles, CA   \n",
       "6                                San Jose, CA   \n",
       "7                                 Burbank, CA   \n",
       "8                               Riverside, CA   \n",
       "9   Irvine, CA 92614 (Business District area)   \n",
       "10                     Los Angeles, CA•Remote   \n",
       "11                           Merced, CA 95340   \n",
       "12                               Stanford, CA   \n",
       "13                       Chatsworth, CA 91311   \n",
       "14                       San Marcos, CA 92096   \n",
       "\n",
       "                                              summary  \n",
       "0   Ability to elicit, gather and analyze data.\\nW...  \n",
       "1   1 year of experience in data analysis or the a...  \n",
       "2   Data abstraction will be utilized to pull conf...  \n",
       "3   ?Bachelor's degree in mathematics, accounting ...  \n",
       "4   Develop and maintain data dictionaries and oth...  \n",
       "5   Assist in creating data best practices and doc...  \n",
       "6   Assess the effectiveness and accuracy of new d...  \n",
       "7   1-3 years of equivalent experience as an analy...  \n",
       "8   Creates actionable insights and understanding,...  \n",
       "9   Handle all data entry of purchase orders for e...  \n",
       "10  You will have contributed to ongoing company e...  \n",
       "11  Frequent use of data entry device including re...  \n",
       "12  Determine additional data collection and repor...  \n",
       "13  Job responsibilities include: preparing daily,...  \n",
       "14  The Specialist is also responsible for assisti...  "
      ]
     },
     "execution_count": 7,
     "metadata": {},
     "output_type": "execute_result"
    }
   ],
   "source": [
    "job_list_df = pd.DataFrame(list(zip(jobs, companies, locations, summaries)),\n",
    "               columns = ['job_title', 'company_name', 'location', 'summary'])\n",
    "job_list_df"
   ]
  },
  {
   "cell_type": "code",
   "execution_count": 8,
   "metadata": {},
   "outputs": [],
   "source": [
    "job_list_df.to_csv('job_list_single.csv', index=False)"
   ]
  },
  {
   "cell_type": "code",
   "execution_count": null,
   "metadata": {},
   "outputs": [],
   "source": []
  }
 ],
 "metadata": {
  "kernelspec": {
   "display_name": "Python 3",
   "language": "python",
   "name": "python3"
  },
  "language_info": {
   "codemirror_mode": {
    "name": "ipython",
    "version": 3
   },
   "file_extension": ".py",
   "mimetype": "text/x-python",
   "name": "python",
   "nbconvert_exporter": "python",
   "pygments_lexer": "ipython3",
   "version": "3.8.5"
  }
 },
 "nbformat": 4,
 "nbformat_minor": 4
}
