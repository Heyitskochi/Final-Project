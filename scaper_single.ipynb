{
 "cells": [
  {
   "cell_type": "code",
   "execution_count": 1,
   "metadata": {},
   "outputs": [],
   "source": [
    "import requests\n",
    "import bs4\n",
    "from bs4 import BeautifulSoup as bs\n",
    "import pandas as pd\n",
    "from splinter import Browser\n",
    "import os\n",
    "from webdriver_manager.chrome import ChromeDriverManager\n",
    "import time"
   ]
  },
  {
   "cell_type": "code",
   "execution_count": 2,
   "metadata": {},
   "outputs": [
    {
     "name": "stderr",
     "output_type": "stream",
     "text": [
      "\n",
      "\n",
      "====== WebDriver manager ======\n",
      "Current google-chrome version is 92.0.4515\n",
      "Get LATEST driver version for 92.0.4515\n",
      "Driver [C:\\Users\\SC\\.wdm\\drivers\\chromedriver\\win32\\92.0.4515.107\\chromedriver.exe] found in cache\n"
     ]
    }
   ],
   "source": [
    "executable_path = {'executable_path': ChromeDriverManager().install()}\n",
    "browser = Browser('chrome', **executable_path, headless=False)\n",
    "url = 'https://www.indeed.com/jobs?q=data%20analyst&l=California&start=0'\n",
    "browser.visit(url)\n",
    "time.sleep(1)  \n",
    "html = browser.html\n",
    "soup = bs(html, \"html.parser\")"
   ]
  },
  {
   "cell_type": "code",
   "execution_count": 10,
   "metadata": {},
   "outputs": [],
   "source": [
    "for div in soup.find_all(name='div', attrs={'class':'job_seen_beacon'}):\n",
    "    #specifying row num for index of job posting in dataframe\n",
    "    #num = (len(joblist_df) + 1) \n",
    "    #creating an empty list to hold the data for each posting\n",
    "    jobs = []\n",
    "    companies = []\n",
    "    locations = []\n",
    "    summaries = []    \n",
    "\n",
    "    #grabbing job title\n",
    "    for td in soup.find_all(name='td', attrs={'class':'resultContent'}):\n",
    "        for div in td.find_all(name='div', attrs={'class':'heading4 color-text-primary singleLineTitle tapItem-gutter'}):\n",
    "            for span in div.find_all(name='span'):\n",
    "                if span.text.strip() != 'new':\n",
    "                    jobs.append(span.text.strip())  \n",
    "    \n",
    "    #grabbing company name\n",
    "    for td in soup.find_all(name='td', attrs={'class':'resultContent'}):\n",
    "        for div in td.find_all(name='div', attrs={'class':'heading6 company_location tapItem-gutter'}):\n",
    "            for span in div.find_all(name='span', attrs={'class':'companyName'}):\n",
    "                companies.append(span.text.strip())      \n",
    "    \n",
    "    \n",
    "    #grabbing location\n",
    "    for td in soup.find_all(name='td', attrs={'class':'resultContent'}):\n",
    "        for div in td.find_all(name='div', attrs={'class':'heading6 company_location tapItem-gutter'}):\n",
    "            for div in div.find_all(name='div'):\n",
    "                locations.append(div.text.strip())   \n",
    "      \n",
    "    #grabbing summary text\n",
    "    divs = soup.findAll('div', attrs={'class': 'job-snippet'})\n",
    "    for div in divs:\n",
    "        summaries.append(div.text.strip())\n",
    "           \n",
    "    #appending list of job post info to dataframe at index num\n",
    "    #joblist_df.loc[num] = job_post"
   ]
  },
  {
   "cell_type": "code",
   "execution_count": 11,
   "metadata": {},
   "outputs": [
    {
     "data": {
      "text/plain": [
       "['Data Analyst',\n",
       " 'Data Analyst I',\n",
       " 'Data Analyst',\n",
       " 'TikTok LIVE Data Analyst',\n",
       " 'Jr. Data Analyst',\n",
       " 'DreamWorks Technology - Data Analyst',\n",
       " 'Associate Analyst, Data Analytics',\n",
       " 'Senior Data Analyst',\n",
       " 'Data Analyst - Growth/UCenter',\n",
       " 'Data Visualization Analyst',\n",
       " 'Associate B-52 Flight Test Engineer – Data Analyst',\n",
       " 'Business Intelligence Analyst 4',\n",
       " 'Research Data Analyst',\n",
       " 'Staff Analyst, Production Data & Analytics',\n",
       " 'Data Analyst']"
      ]
     },
     "execution_count": 11,
     "metadata": {},
     "output_type": "execute_result"
    }
   ],
   "source": [
    "jobs"
   ]
  },
  {
   "cell_type": "code",
   "execution_count": 12,
   "metadata": {},
   "outputs": [
    {
     "data": {
      "text/plain": [
       "['Tetra Tech Inc.',\n",
       " 'Computershare',\n",
       " 'OBMedia',\n",
       " 'TikTok',\n",
       " 'Deckers Brands',\n",
       " 'NBCUniversal',\n",
       " 'Edwards Lifesciences',\n",
       " 'FocusKPI Inc.',\n",
       " 'TikTok',\n",
       " 'California State University',\n",
       " 'BOEING',\n",
       " 'Adobe',\n",
       " 'Stanford University',\n",
       " 'Walt Disney Animation Studios',\n",
       " 'Luxoft']"
      ]
     },
     "execution_count": 12,
     "metadata": {},
     "output_type": "execute_result"
    }
   ],
   "source": [
    "companies"
   ]
  },
  {
   "cell_type": "code",
   "execution_count": 13,
   "metadata": {},
   "outputs": [
    {
     "data": {
      "text/plain": [
       "['Chico, CA',\n",
       " 'United States•Remote',\n",
       " 'Los Angeles, CA•Remote',\n",
       " 'Los Angeles, CA',\n",
       " 'Goleta, CA 93117•Remote',\n",
       " 'Glendale, CA',\n",
       " 'Irvine, CA',\n",
       " 'San Francisco Bay Area, CA',\n",
       " 'Mountain View, CA',\n",
       " 'San Jose, CA',\n",
       " 'Edwards AFB, CA',\n",
       " 'San Jose, CA',\n",
       " 'Stanford, CA',\n",
       " 'Burbank, CA',\n",
       " 'Los Angeles, CA']"
      ]
     },
     "execution_count": 13,
     "metadata": {},
     "output_type": "execute_result"
    }
   ],
   "source": [
    "locations"
   ]
  },
  {
   "cell_type": "code",
   "execution_count": 14,
   "metadata": {},
   "outputs": [
    {
     "data": {
      "text/plain": [
       "['The successful candidate will have extraordinary attention to minute detail and be responsible for executing and overseeing daily administrative, data entry,…',\n",
       " '1 year of experience in data analysis or the application of data analytics, preferably within the mortgage servicing industry.\\nPaid time away from work.',\n",
       " 'You will have contributed to ongoing company efforts to manage our massive, often noisy, and continuously changing, data streams.',\n",
       " 'Assist in creating data best practices and documentation to help streamline data operations.\\nAdvanced proficiency in data manipulation including SQL, python or…',\n",
       " 'Analyze data to unearth insights and develop data visualizations to facilitate decision making.\\nCreate data sources in Tableau to support reporting for internal…',\n",
       " 'Present data analysis findings and/or translate data into an understandable document or dashboard.\\nStrong SQL with experience in querying large, complex data…',\n",
       " 'Good knowledge and understanding of Edwards policies, procedures and guidelines relevant to data analytics.\\nBuild routine quantitative models and/or tools with…',\n",
       " 'The ideal candidate is an intelligent, sharp, detail-oriented, and highly quantitative individual who loves working with and analyzing data.',\n",
       " '2+ years of experience in data analyzing, visualization and reporting.\\nSkilled in data manipulation with SQL, python or other programming-languages/tools.',\n",
       " 'Experience with writing scripts to analyze data and perform data queries, creating reports with quantitative modeling, detail-oriented approach to data…',\n",
       " 'This role will perform data analysis of flight test data.\\nWork experience with 1553 data products.\\nParticipates in evaluation of test performance data.',\n",
       " 'Leverage global reporting, analysis, and business modeling to translate data into insights to proactively drive action.',\n",
       " 'Determine additional data collection and reporting requirements.\\nUse system reports and analyses to identify potentially problematic data, make corrections, and…',\n",
       " 'The Studio Analytics team is responsible for developing a strategy and vision for cross-functional and complex data analysis projects.',\n",
       " \"Contribute to data models and designs for the data warehouse.\\nOur Data Strategy and Operations team is focused on implementing and evolving client's investment…\"]"
      ]
     },
     "execution_count": 14,
     "metadata": {},
     "output_type": "execute_result"
    }
   ],
   "source": [
    "summaries"
   ]
  },
  {
   "cell_type": "code",
   "execution_count": 17,
   "metadata": {},
   "outputs": [
    {
     "data": {
      "text/html": [
       "<div>\n",
       "<style scoped>\n",
       "    .dataframe tbody tr th:only-of-type {\n",
       "        vertical-align: middle;\n",
       "    }\n",
       "\n",
       "    .dataframe tbody tr th {\n",
       "        vertical-align: top;\n",
       "    }\n",
       "\n",
       "    .dataframe thead th {\n",
       "        text-align: right;\n",
       "    }\n",
       "</style>\n",
       "<table border=\"1\" class=\"dataframe\">\n",
       "  <thead>\n",
       "    <tr style=\"text-align: right;\">\n",
       "      <th></th>\n",
       "      <th>job_title</th>\n",
       "      <th>company_name</th>\n",
       "      <th>location</th>\n",
       "      <th>summary</th>\n",
       "    </tr>\n",
       "  </thead>\n",
       "  <tbody>\n",
       "    <tr>\n",
       "      <th>0</th>\n",
       "      <td>Data Analyst</td>\n",
       "      <td>Tetra Tech Inc.</td>\n",
       "      <td>Chico, CA</td>\n",
       "      <td>The successful candidate will have extraordina...</td>\n",
       "    </tr>\n",
       "    <tr>\n",
       "      <th>1</th>\n",
       "      <td>Data Analyst I</td>\n",
       "      <td>Computershare</td>\n",
       "      <td>United States•Remote</td>\n",
       "      <td>1 year of experience in data analysis or the a...</td>\n",
       "    </tr>\n",
       "    <tr>\n",
       "      <th>2</th>\n",
       "      <td>Data Analyst</td>\n",
       "      <td>OBMedia</td>\n",
       "      <td>Los Angeles, CA•Remote</td>\n",
       "      <td>You will have contributed to ongoing company e...</td>\n",
       "    </tr>\n",
       "    <tr>\n",
       "      <th>3</th>\n",
       "      <td>TikTok LIVE Data Analyst</td>\n",
       "      <td>TikTok</td>\n",
       "      <td>Los Angeles, CA</td>\n",
       "      <td>Assist in creating data best practices and doc...</td>\n",
       "    </tr>\n",
       "    <tr>\n",
       "      <th>4</th>\n",
       "      <td>Jr. Data Analyst</td>\n",
       "      <td>Deckers Brands</td>\n",
       "      <td>Goleta, CA 93117•Remote</td>\n",
       "      <td>Analyze data to unearth insights and develop d...</td>\n",
       "    </tr>\n",
       "    <tr>\n",
       "      <th>5</th>\n",
       "      <td>DreamWorks Technology - Data Analyst</td>\n",
       "      <td>NBCUniversal</td>\n",
       "      <td>Glendale, CA</td>\n",
       "      <td>Present data analysis findings and/or translat...</td>\n",
       "    </tr>\n",
       "    <tr>\n",
       "      <th>6</th>\n",
       "      <td>Associate Analyst, Data Analytics</td>\n",
       "      <td>Edwards Lifesciences</td>\n",
       "      <td>Irvine, CA</td>\n",
       "      <td>Good knowledge and understanding of Edwards po...</td>\n",
       "    </tr>\n",
       "    <tr>\n",
       "      <th>7</th>\n",
       "      <td>Senior Data Analyst</td>\n",
       "      <td>FocusKPI Inc.</td>\n",
       "      <td>San Francisco Bay Area, CA</td>\n",
       "      <td>The ideal candidate is an intelligent, sharp, ...</td>\n",
       "    </tr>\n",
       "    <tr>\n",
       "      <th>8</th>\n",
       "      <td>Data Analyst - Growth/UCenter</td>\n",
       "      <td>TikTok</td>\n",
       "      <td>Mountain View, CA</td>\n",
       "      <td>2+ years of experience in data analyzing, visu...</td>\n",
       "    </tr>\n",
       "    <tr>\n",
       "      <th>9</th>\n",
       "      <td>Data Visualization Analyst</td>\n",
       "      <td>California State University</td>\n",
       "      <td>San Jose, CA</td>\n",
       "      <td>Experience with writing scripts to analyze dat...</td>\n",
       "    </tr>\n",
       "    <tr>\n",
       "      <th>10</th>\n",
       "      <td>Associate B-52 Flight Test Engineer – Data Ana...</td>\n",
       "      <td>BOEING</td>\n",
       "      <td>Edwards AFB, CA</td>\n",
       "      <td>This role will perform data analysis of flight...</td>\n",
       "    </tr>\n",
       "    <tr>\n",
       "      <th>11</th>\n",
       "      <td>Business Intelligence Analyst 4</td>\n",
       "      <td>Adobe</td>\n",
       "      <td>San Jose, CA</td>\n",
       "      <td>Leverage global reporting, analysis, and busin...</td>\n",
       "    </tr>\n",
       "    <tr>\n",
       "      <th>12</th>\n",
       "      <td>Research Data Analyst</td>\n",
       "      <td>Stanford University</td>\n",
       "      <td>Stanford, CA</td>\n",
       "      <td>Determine additional data collection and repor...</td>\n",
       "    </tr>\n",
       "    <tr>\n",
       "      <th>13</th>\n",
       "      <td>Staff Analyst, Production Data &amp; Analytics</td>\n",
       "      <td>Walt Disney Animation Studios</td>\n",
       "      <td>Burbank, CA</td>\n",
       "      <td>The Studio Analytics team is responsible for d...</td>\n",
       "    </tr>\n",
       "    <tr>\n",
       "      <th>14</th>\n",
       "      <td>Data Analyst</td>\n",
       "      <td>Luxoft</td>\n",
       "      <td>Los Angeles, CA</td>\n",
       "      <td>Contribute to data models and designs for the ...</td>\n",
       "    </tr>\n",
       "  </tbody>\n",
       "</table>\n",
       "</div>"
      ],
      "text/plain": [
       "                                            job_title  \\\n",
       "0                                        Data Analyst   \n",
       "1                                      Data Analyst I   \n",
       "2                                        Data Analyst   \n",
       "3                            TikTok LIVE Data Analyst   \n",
       "4                                    Jr. Data Analyst   \n",
       "5                DreamWorks Technology - Data Analyst   \n",
       "6                   Associate Analyst, Data Analytics   \n",
       "7                                 Senior Data Analyst   \n",
       "8                       Data Analyst - Growth/UCenter   \n",
       "9                          Data Visualization Analyst   \n",
       "10  Associate B-52 Flight Test Engineer – Data Ana...   \n",
       "11                    Business Intelligence Analyst 4   \n",
       "12                              Research Data Analyst   \n",
       "13         Staff Analyst, Production Data & Analytics   \n",
       "14                                       Data Analyst   \n",
       "\n",
       "                     company_name                    location  \\\n",
       "0                 Tetra Tech Inc.                   Chico, CA   \n",
       "1                   Computershare        United States•Remote   \n",
       "2                         OBMedia      Los Angeles, CA•Remote   \n",
       "3                          TikTok             Los Angeles, CA   \n",
       "4                  Deckers Brands     Goleta, CA 93117•Remote   \n",
       "5                    NBCUniversal                Glendale, CA   \n",
       "6            Edwards Lifesciences                  Irvine, CA   \n",
       "7                   FocusKPI Inc.  San Francisco Bay Area, CA   \n",
       "8                          TikTok           Mountain View, CA   \n",
       "9     California State University                San Jose, CA   \n",
       "10                         BOEING             Edwards AFB, CA   \n",
       "11                          Adobe                San Jose, CA   \n",
       "12            Stanford University                Stanford, CA   \n",
       "13  Walt Disney Animation Studios                 Burbank, CA   \n",
       "14                         Luxoft             Los Angeles, CA   \n",
       "\n",
       "                                              summary  \n",
       "0   The successful candidate will have extraordina...  \n",
       "1   1 year of experience in data analysis or the a...  \n",
       "2   You will have contributed to ongoing company e...  \n",
       "3   Assist in creating data best practices and doc...  \n",
       "4   Analyze data to unearth insights and develop d...  \n",
       "5   Present data analysis findings and/or translat...  \n",
       "6   Good knowledge and understanding of Edwards po...  \n",
       "7   The ideal candidate is an intelligent, sharp, ...  \n",
       "8   2+ years of experience in data analyzing, visu...  \n",
       "9   Experience with writing scripts to analyze dat...  \n",
       "10  This role will perform data analysis of flight...  \n",
       "11  Leverage global reporting, analysis, and busin...  \n",
       "12  Determine additional data collection and repor...  \n",
       "13  The Studio Analytics team is responsible for d...  \n",
       "14  Contribute to data models and designs for the ...  "
      ]
     },
     "execution_count": 17,
     "metadata": {},
     "output_type": "execute_result"
    }
   ],
   "source": [
    "job_list_df = pd.DataFrame(list(zip(jobs, companies, locations, summaries)),\n",
    "               columns = ['job_title', 'company_name', 'location', 'summary'])\n",
    "job_list_df"
   ]
  },
  {
   "cell_type": "code",
   "execution_count": 19,
   "metadata": {},
   "outputs": [],
   "source": [
    "job_list_df.to_csv('job_list_single.csv', index=False)"
   ]
  },
  {
   "cell_type": "code",
   "execution_count": null,
   "metadata": {},
   "outputs": [],
   "source": []
  }
 ],
 "metadata": {
  "kernelspec": {
   "display_name": "Python 3",
   "language": "python",
   "name": "python3"
  },
  "language_info": {
   "codemirror_mode": {
    "name": "ipython",
    "version": 3
   },
   "file_extension": ".py",
   "mimetype": "text/x-python",
   "name": "python",
   "nbconvert_exporter": "python",
   "pygments_lexer": "ipython3",
   "version": "3.8.5"
  }
 },
 "nbformat": 4,
 "nbformat_minor": 4
}
